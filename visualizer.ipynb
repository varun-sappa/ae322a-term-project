{
 "cells": [
  {
   "cell_type": "code",
   "execution_count": 2,
   "metadata": {},
   "outputs": [
    {
     "data": {
      "application/vnd.jupyter.widget-view+json": {
       "model_id": "751d2cdc9da44e339990ea0cc9565a22",
       "version_major": 2,
       "version_minor": 0
      },
      "text/plain": [
       "interactive(children=(FloatSlider(value=1.0, description='K', max=10.0, min=0.1), FloatSlider(value=1.0, descr…"
      ]
     },
     "metadata": {},
     "output_type": "display_data"
    }
   ],
   "source": [
    "## firstPID.py visualizer\n",
    "\n",
    "import numpy as np\n",
    "import matplotlib.pyplot as plt\n",
    "import control as ctl\n",
    "from ipywidgets import interactive, FloatSlider\n",
    "from firstPID import plot_response\n",
    "\n",
    "\n",
    "interactive_plot = interactive(\n",
    "    plot_response, \n",
    "    K=FloatSlider(value=1.0, min=0.1, max=10.0, step=0.1),\n",
    "    T=FloatSlider(value=1.0, min=0.1, max=10.0, step=0.1),\n",
    "    Td=FloatSlider(value=0.2, min=0.1, max=5.0, step=0.1),\n",
    "    ωc=FloatSlider(value=1.0, min=0.1, max=5.0, step=0.1)\n",
    ")\n",
    "display(interactive_plot)\n"
   ]
  },
  {
   "cell_type": "code",
   "execution_count": 3,
   "metadata": {},
   "outputs": [
    {
     "data": {
      "application/vnd.jupyter.widget-view+json": {
       "model_id": "2e71918084ef4134acbd6db89a6714f3",
       "version_major": 2,
       "version_minor": 0
      },
      "text/plain": [
       "interactive(children=(FloatSlider(value=1.0, description='K', max=10.0, min=0.1), FloatSlider(value=1.0, descr…"
      ]
     },
     "metadata": {},
     "output_type": "display_data"
    }
   ],
   "source": [
    "# secondPD visualizer \n",
    "\n",
    "import numpy as np\n",
    "import matplotlib.pyplot as plt\n",
    "import control as ctl\n",
    "from ipywidgets import interactive, FloatSlider\n",
    "from SecondPD import plot_step_response\n",
    "\n",
    "interactive_plot = interactive(\n",
    "    plot_step_response, \n",
    "    K=FloatSlider(value=1.0, min=0.1, max=10.0, step=0.1),\n",
    "    T=FloatSlider(value=1.0, min=0.1, max=10.0, step=0.1),\n",
    "    Td=FloatSlider(value=2, min=0.1, max=5.0, step=0.1),\n",
    "    ωc=FloatSlider(value=2, min=0.1, max=5.0, step=0.1)\n",
    ")\n",
    "display(interactive_plot)"
   ]
  },
  {
   "cell_type": "code",
   "execution_count": 3,
   "metadata": {},
   "outputs": [
    {
     "data": {
      "application/vnd.jupyter.widget-view+json": {
       "model_id": "d6d210fbc0c240bea7dee20e15efee09",
       "version_major": 2,
       "version_minor": 0
      },
      "text/plain": [
       "interactive(children=(FloatSlider(value=1.0, description='K', max=10.0, min=0.1), FloatSlider(value=2.0, descr…"
      ]
     },
     "metadata": {},
     "output_type": "display_data"
    }
   ],
   "source": [
    "# secondPID visualizer \n",
    "import numpy as np\n",
    "import matplotlib.pyplot as plt\n",
    "import control as ctl\n",
    "from ipywidgets import interactive, FloatSlider\n",
    "import random\n",
    "from SecondPID import validate_pid_parameters,calculate_Kp_Ti\n",
    "\n",
    "def visualizer (K, A, B, Td, wc_start,wc_end):\n",
    "    valid_wc = []\n",
    "    wc_step = 0.1\n",
    "\n",
    "\n",
    "    for wc in np.arange(wc_start, wc_end + wc_step, wc_step):\n",
    "        Kp, Ti = calculate_Kp_Ti(wc, K, A, B, Td)\n",
    "        if Kp is not None and Ti is not None and validate_pid_parameters(K, A, B, Kp, Ti, Td, wc):\n",
    "            valid_wc.append(wc)\n",
    "\n",
    "    if valid_wc:\n",
    "        # print(\"Valid ωc values:\", valid_wc)\n",
    "        selected_wc = random.choice(valid_wc)\n",
    "\n",
    "        selected_Kp, selected_Ti = calculate_Kp_Ti(selected_wc, K, A, B, Td)\n",
    "        print(\"Selected ωc:\", selected_wc)\n",
    "        print(\"Selected Kp:\", selected_Kp)\n",
    "        print(\"Selected Ti:\", selected_Ti)\n",
    "\n",
    "        plant = ctl.tf([K], [1, A, B])\n",
    "        controller = ctl.tf([selected_Kp * selected_Ti*Td,selected_Kp * selected_Ti, selected_Kp], [selected_Ti, 0])\n",
    "        system = ctl.feedback(controller * plant)\n",
    "\n",
    "        print(\"Plant Transfer Function:\", plant)\n",
    "        print(\"Controller Transfer Function:\", controller)\n",
    "        print(\"Closed-loop Transfer Function:\", system)\n",
    "\n",
    "        time, response = ctl.step_response(system)\n",
    "\n",
    "        plt.figure()\n",
    "        plt.plot(time, response)\n",
    "        plt.title('Step Response of the Closed-Loop System')\n",
    "        plt.xlabel('Time (seconds)')\n",
    "        plt.ylabel('Output')\n",
    "        plt.grid(True)\n",
    "        plt.show()\n",
    "    else:\n",
    "        print(\"No valid ωc found. Try adjusting the range or parameters.\")\n",
    "\n",
    "\n",
    "interactive_plot = interactive(\n",
    "    visualizer, \n",
    "    K=FloatSlider(value=1.0, min=0.1, max=10.0, step=0.1),\n",
    "    A=FloatSlider(value=2.0, min=0.1, max=10.0, step=0.1),\n",
    "    B=FloatSlider(value=1.0, min=0.1, max=10.0, step=0.1),\n",
    "    Td=FloatSlider(value=0.5, min=0.1, max=5.0, step=0.1),\n",
    "    wc_start=FloatSlider(value=0.1, min=0.1, max=5.0, step=0.1),\n",
    "    wc_end=FloatSlider(value=5, min=2, max=10.0, step=0.1)\n",
    "\n",
    ")\n",
    "display(interactive_plot)\n"
   ]
  },
  {
   "cell_type": "code",
   "execution_count": null,
   "metadata": {},
   "outputs": [],
   "source": []
  }
 ],
 "metadata": {
  "kernelspec": {
   "display_name": "Python 3",
   "language": "python",
   "name": "python3"
  },
  "language_info": {
   "codemirror_mode": {
    "name": "ipython",
    "version": 3
   },
   "file_extension": ".py",
   "mimetype": "text/x-python",
   "name": "python",
   "nbconvert_exporter": "python",
   "pygments_lexer": "ipython3",
   "version": "3.10.12"
  }
 },
 "nbformat": 4,
 "nbformat_minor": 2
}
